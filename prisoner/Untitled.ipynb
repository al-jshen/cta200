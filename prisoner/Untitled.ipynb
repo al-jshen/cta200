{
 "cells": [
  {
   "cell_type": "code",
   "execution_count": 6,
   "metadata": {},
   "outputs": [],
   "source": [
    "from typing import *\n",
    "import numpy as np"
   ]
  },
  {
   "cell_type": "code",
   "execution_count": 49,
   "metadata": {},
   "outputs": [],
   "source": [
    "class Agent:\n",
    "    def __init__(self) -> None:\n",
    "        self.points = 0\n",
    "    \n",
    "    def move(self) -> str:\n",
    "        pass\n",
    "\n",
    "    def add_points(self, points) -> None:\n",
    "        self.points += points\n",
    "        \n",
    "    \n",
    "class Cooperator(Agent):\n",
    "    def __init__(self):\n",
    "        super().__init__()\n",
    "        \n",
    "    def move(self):\n",
    "        return 'cooperate'\n",
    "    \n",
    "    \n",
    "class Defector(Agent):\n",
    "    def __init__(self):\n",
    "        super().__init__()\n",
    "        \n",
    "    def move(self):\n",
    "        return 'defect'\n",
    "    \n",
    "    \n",
    "class Random(Agent):\n",
    "    def __init__(self):\n",
    "        super().__init__()\n",
    "        \n",
    "    def move(self):\n",
    "        return np.random.choice(['cooperate', 'defect'])\n",
    "    \n",
    "    \n",
    "class Resentful(Agent):\n",
    "    def __init__(self):\n",
    "        super().__init__()\n",
    "        self.next_move = 'cooperate'\n",
    "    \n",
    "    def add_points(self, points):\n",
    "        self.points += points\n",
    "        if points < 2: # other person defected\n",
    "            self.next_move = 'defect'\n",
    "        \n",
    "    def move(self):\n",
    "        return self.next_move\n",
    "    \n",
    "\n",
    "class TitForTat(Agent):\n",
    "    def __init__(self):\n",
    "        super().__init__()\n",
    "        self.next_move = 'cooperate'\n",
    "        \n",
    "    def add_points(self, points):\n",
    "        self.points += points\n",
    "        if points < 2: # other person defected\n",
    "            self.next_move = 'defect'\n",
    "        else:\n",
    "            self.next_move = 'cooperate'\n",
    "        \n",
    "    def move(self):\n",
    "        return self.next_move"
   ]
  },
  {
   "cell_type": "code",
   "execution_count": 109,
   "metadata": {},
   "outputs": [],
   "source": [
    "class Tournament:\n",
    "    def __init__(self, player1: Agent, player2: Agent):\n",
    "        self.p1 = player1\n",
    "        self.p2 = player2\n",
    "        \n",
    "    def add_points(self, p1_points: int, p2_points: int):\n",
    "        self.p1.add_points(p1_points)\n",
    "        self.p2.add_points(p2_points)\n",
    "        \n",
    "    def play_round(self):\n",
    "        p1move = self.p1.move()\n",
    "        p2move = self.p2.move()\n",
    "        if p1move == p2move == 'cooperate':\n",
    "            self.add_points(3, 3)\n",
    "        elif p1move == p2move == 'defect':\n",
    "            self.add_points(1, 1)\n",
    "        elif p1move == 'defect':\n",
    "            self.add_points(5, 0)\n",
    "        elif p2move == 'defect':\n",
    "            self.add_points(0, 5)    \n",
    "            \n",
    "        print(f'p1: {p1move}\\t{self.p1.points} \\t p2: {p2move}\\t{self.p2.points}')"
   ]
  },
  {
   "cell_type": "code",
   "execution_count": 110,
   "metadata": {},
   "outputs": [],
   "source": [
    "p1 = Resentful()\n",
    "p2 = Random()\n",
    "t = Tournament(p1, p2)"
   ]
  },
  {
   "cell_type": "code",
   "execution_count": 111,
   "metadata": {},
   "outputs": [
    {
     "name": "stdout",
     "output_type": "stream",
     "text": [
      "p1: cooperate\t3 \t p2: cooperate\t3\n",
      "p1: cooperate\t6 \t p2: cooperate\t6\n",
      "p1: cooperate\t6 \t p2: defect\t11\n",
      "p1: defect\t7 \t p2: defect\t12\n",
      "p1: defect\t8 \t p2: defect\t13\n",
      "p1: defect\t13 \t p2: cooperate\t13\n",
      "p1: defect\t14 \t p2: defect\t14\n",
      "p1: defect\t15 \t p2: defect\t15\n",
      "p1: defect\t16 \t p2: defect\t16\n",
      "p1: defect\t17 \t p2: defect\t17\n"
     ]
    }
   ],
   "source": [
    "for i in range(10):\n",
    "    t.play_round()"
   ]
  },
  {
   "cell_type": "code",
   "execution_count": null,
   "metadata": {},
   "outputs": [],
   "source": []
  }
 ],
 "metadata": {
  "kernelspec": {
   "display_name": "Python 3",
   "language": "python",
   "name": "python3"
  },
  "language_info": {
   "codemirror_mode": {
    "name": "ipython",
    "version": 3
   },
   "file_extension": ".py",
   "mimetype": "text/x-python",
   "name": "python",
   "nbconvert_exporter": "python",
   "pygments_lexer": "ipython3",
   "version": "3.8.2"
  }
 },
 "nbformat": 4,
 "nbformat_minor": 4
}
