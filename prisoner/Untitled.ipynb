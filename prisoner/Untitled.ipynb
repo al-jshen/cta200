{
 "cells": [
  {
   "cell_type": "code",
   "execution_count": 1,
   "metadata": {},
   "outputs": [],
   "source": [
    "from typing import *\n",
    "import numpy as np"
   ]
  },
  {
   "cell_type": "code",
   "execution_count": 2,
   "metadata": {},
   "outputs": [],
   "source": [
    "class Agent:\n",
    "    def __init__(self) -> None:\n",
    "        self.points = 0\n",
    "    \n",
    "    def move(self) -> str:\n",
    "        pass\n",
    "    \n",
    "    def reset(self) -> None:\n",
    "        pass\n",
    "    \n",
    "    def add_points(self, points) -> None:\n",
    "        self.points += points\n",
    "        \n",
    "    \n",
    "class Cooperator(Agent):\n",
    "    def __init__(self):\n",
    "        super().__init__()\n",
    "        \n",
    "    def move(self):\n",
    "        return 'cooperate'\n",
    "    \n",
    "    \n",
    "class Defector(Agent):\n",
    "    def __init__(self):\n",
    "        super().__init__()\n",
    "        \n",
    "    def move(self):\n",
    "        return 'defect'\n",
    "    \n",
    "    \n",
    "class Random(Agent):\n",
    "    def __init__(self):\n",
    "        super().__init__()\n",
    "        \n",
    "    def move(self):\n",
    "        return np.random.choice(['cooperate', 'defect'])\n",
    "    \n",
    "    \n",
    "class Resentful(Agent):\n",
    "    def __init__(self):\n",
    "        super().__init__()\n",
    "        self.next_move = 'cooperate'\n",
    "    \n",
    "    def add_points(self, points):\n",
    "        self.points += points\n",
    "        if points < 2: # other person defected\n",
    "            self.next_move = 'defect'\n",
    "        \n",
    "    def move(self):\n",
    "        return self.next_move\n",
    "    \n",
    "    def reset(self):\n",
    "        self.next_move = 'cooperate'\n",
    "    \n",
    "\n",
    "class TitForTat(Agent):\n",
    "    def __init__(self):\n",
    "        super().__init__()\n",
    "        self.next_move = 'cooperate'\n",
    "        \n",
    "    def add_points(self, points):\n",
    "        self.points += points\n",
    "        if points < 2: # other person defected\n",
    "            self.next_move = 'defect'\n",
    "        else:\n",
    "            self.next_move = 'cooperate'\n",
    "        \n",
    "    def move(self):\n",
    "        return self.next_move\n",
    "    \n",
    "    def reset(self):\n",
    "        self.next_move = 'cooperate'"
   ]
  },
  {
   "cell_type": "code",
   "execution_count": 3,
   "metadata": {},
   "outputs": [],
   "source": [
    "class Tournament:\n",
    "    def __init__(self, player1: Agent, player2: Agent):\n",
    "        self.p1 = player1\n",
    "        self.p2 = player2\n",
    "        self.p1.reset()\n",
    "        self.p2.reset()\n",
    "        \n",
    "    def add_points(self, p1_points: int, p2_points: int):\n",
    "        self.p1.add_points(p1_points)\n",
    "        self.p2.add_points(p2_points)\n",
    "        \n",
    "    def play_round(self):\n",
    "        p1move = self.p1.move()\n",
    "        p2move = self.p2.move()\n",
    "        if p1move == p2move == 'cooperate':\n",
    "            self.add_points(3, 3)\n",
    "        elif p1move == p2move == 'defect':\n",
    "            self.add_points(1, 1)\n",
    "        elif p1move == 'defect':\n",
    "            self.add_points(5, 0)\n",
    "        elif p2move == 'defect':\n",
    "            self.add_points(0, 5)    \n",
    "            \n",
    "#         print(f'p1: {p1move}\\t{self.p1.points} \\t p2: {p2move}\\t{self.p2.points}')\n",
    "        \n",
    "    def get_scores(self):\n",
    "        return (self.p1.points, self.p2.points)"
   ]
  },
  {
   "cell_type": "code",
   "execution_count": 8,
   "metadata": {},
   "outputs": [],
   "source": [
    "p1 = Cooperator()\n",
    "p2 = Defector()\n",
    "p3 = Random()\n",
    "p4 = Resentful()\n",
    "p5 = TitForTat()\n",
    "agents = [p1, p2, p3, p4, p5]"
   ]
  },
  {
   "cell_type": "code",
   "execution_count": 9,
   "metadata": {},
   "outputs": [
    {
     "name": "stdout",
     "output_type": "stream",
     "text": [
      "Cooperator: \t1499853\n",
      "Defector: \t1999244\n",
      "Random: \t1450450\n",
      "Resentful: \t2000212\n",
      "TitForTat: \t1850193\n",
      "CPU times: user 4.6 s, sys: 6.87 ms, total: 4.6 s\n",
      "Wall time: 4.61 s\n"
     ]
    }
   ],
   "source": [
    "%%time\n",
    "for i in agents:\n",
    "    for j in agents:\n",
    "        if i != j:\n",
    "            t = Tournament(i, j)\n",
    "            for round in range(100000):\n",
    "                t.play_round()\n",
    "                \n",
    "for a in agents:\n",
    "    print(f'{a.__class__.__name__}: \\t{a.points}')"
   ]
  },
  {
   "cell_type": "code",
   "execution_count": 161,
   "metadata": {},
   "outputs": [
    {
     "data": {
      "text/plain": [
       "1.332453086864322"
      ]
     },
     "execution_count": 161,
     "metadata": {},
     "output_type": "execute_result"
    }
   ],
   "source": [
    "p2.points / p1.points # quantify how much better a defector is than a cooperator"
   ]
  },
  {
   "cell_type": "code",
   "execution_count": null,
   "metadata": {},
   "outputs": [],
   "source": []
  }
 ],
 "metadata": {
  "kernelspec": {
   "display_name": "Python 3",
   "language": "python",
   "name": "python3"
  },
  "language_info": {
   "codemirror_mode": {
    "name": "ipython",
    "version": 3
   },
   "file_extension": ".py",
   "mimetype": "text/x-python",
   "name": "python",
   "nbconvert_exporter": "python",
   "pygments_lexer": "ipython3",
   "version": "3.8.3"
  }
 },
 "nbformat": 4,
 "nbformat_minor": 4
}
