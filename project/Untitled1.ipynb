{
 "cells": [
  {
   "cell_type": "code",
   "execution_count": 1,
   "metadata": {},
   "outputs": [],
   "source": [
    "import csv\n",
    "import numpy as np\n",
    "import matplotlib.pyplot as plt\n",
    "%matplotlib inline\n",
    "import astropy\n",
    "import astropy.constants as const\n",
    "import pandas as pd\n",
    "from scipy.integrate import simps\n",
    "import scipy.stats as stats\n",
    "from astropy.modeling import models, fitting"
   ]
  },
  {
   "cell_type": "code",
   "execution_count": 2,
   "metadata": {},
   "outputs": [],
   "source": [
    "s2a = pd.read_csv('./resources/zprofile-2a.tsv', sep='\\t', skiprows=6, header=None)\n",
    "s2b = pd.read_csv('./resources/zprofile-2b.tsv', sep='\\t', skiprows=6, header=None)\n",
    "s2c = pd.read_csv('./resources/zprofile-2c.tsv', sep='\\t', skiprows=6, header=None)\n",
    "\n",
    "colnames = ['freq', 'intensity']\n",
    "s2a.columns, s2a.name = colnames, '2a'\n",
    "s2b.columns, s2b.name = colnames, '2b'\n",
    "s2c.columns, s2c.name = colnames, '2c'\n",
    "\n",
    "spec = [s2a, s2b, s2c]"
   ]
  },
  {
   "cell_type": "code",
   "execution_count": 3,
   "metadata": {},
   "outputs": [],
   "source": [
    "norm = lambda x, c=1: x / simps(x) * c"
   ]
  },
  {
   "cell_type": "code",
   "execution_count": 4,
   "metadata": {},
   "outputs": [],
   "source": [
    "datadist = spec[2].intensity\n",
    "sampdist = norm(stats.norm.pdf(spec[2].freq, loc=spec[2].freq.mean(), scale=spec[2].freq.std()*1.25), .05)"
   ]
  },
  {
   "cell_type": "code",
   "execution_count": 5,
   "metadata": {},
   "outputs": [
    {
     "data": {
      "text/plain": [
       "[<matplotlib.lines.Line2D at 0x7f3277f6e970>]"
      ]
     },
     "execution_count": 5,
     "metadata": {},
     "output_type": "execute_result"
    },
    {
     "data": {
      "image/png": "[encoded data removed]",
      "text/plain": [
       "<Figure size 432x288 with 1 Axes>"
      ]
     },
     "metadata": {
      "needs_background": "light"
     },
     "output_type": "display_data"
    }
   ],
   "source": [
    "plt.step(spec[2].freq, datadist - min(datadist))\n",
    "plt.plot(spec[2].freq, sampdist)"
   ]
  },
  {
   "cell_type": "code",
   "execution_count": 554,
   "metadata": {},
   "outputs": [],
   "source": [
    "def rej_samp(xvals, samp_dist, target_dist, n):\n",
    "    xval_idx = np.arange(len(xvals))\n",
    "    x_idx = np.random.choice(xval_idx, p=(samp_dist / samp_dist.sum()), size=5*n)\n",
    "    highy = samp_dist[x_idx]\n",
    "    geny = np.random.uniform(min(target_dist), highy)\n",
    "    limity = target_dist[x_idx]\n",
    "    mask = geny <= limity\n",
    "    return xvals[limity.index[mask]].values, geny[mask]"
   ]
  },
  {
   "cell_type": "code",
   "execution_count": 555,
   "metadata": {},
   "outputs": [],
   "source": [
    "g_init = models.Gaussian1D(amplitude=max(spec[2].intensity), mean=88, stddev=.3, bounds={'mean': (88, 88.5)})\n",
    "fit_g = fitting.LevMarLSQFitter()"
   ]
  },
  {
   "cell_type": "code",
   "execution_count": 556,
   "metadata": {},
   "outputs": [],
   "source": [
    "n = 100\n",
    "means, stds, fluxes = np.zeros(n), np.zeros(n), np.zeros(n)\n",
    "all_xs, all_ys = [], []\n",
    "for idx in range(n):\n",
    "    x, y = rej_samp(spec[2].freq, sampdist, datadist, len(datadist))\n",
    "    xs = np.zeros(len(np.unique(x)))\n",
    "    ys = np.zeros(len(np.unique(x)))\n",
    "    for i, j in enumerate(np.unique(x)):\n",
    "        xs[i] = j\n",
    "        ys[i] = y[x == j].max()\n",
    "    g = fit_g(g_init, xs, ys)\n",
    "    if min(spec[2].freq) < g.mean.value < max(spec[2].freq):\n",
    "        all_xs.append(xs)\n",
    "        all_ys.append(ys)\n",
    "        means[idx] = g.mean.value\n",
    "        stds[idx] = g.stddev.value\n",
    "        fluxes[idx] = simps(ys)"
   ]
  },
  {
   "cell_type": "code",
   "execution_count": 557,
   "metadata": {},
   "outputs": [
    {
     "data": {
      "text/plain": [
       "(88.28663379528014, 0.21644822989793402)"
      ]
     },
     "execution_count": 557,
     "metadata": {},
     "output_type": "execute_result"
    }
   ],
   "source": [
    "means[means.nonzero()].mean(), means[means.nonzero()].std()"
   ]
  },
  {
   "cell_type": "code",
   "execution_count": 558,
   "metadata": {},
   "outputs": [
    {
     "data": {
      "text/plain": [
       "(0.4781176045471725, 0.9487467143839025)"
      ]
     },
     "execution_count": 558,
     "metadata": {},
     "output_type": "execute_result"
    }
   ],
   "source": [
    "stds[stds.nonzero()].mean(), stds[stds.nonzero()].std()"
   ]
  },
  {
   "cell_type": "code",
   "execution_count": 559,
   "metadata": {},
   "outputs": [
    {
     "data": {
      "text/plain": [
       "(-0.001885839646203711, 0.0007017220660227841)"
      ]
     },
     "execution_count": 559,
     "metadata": {},
     "output_type": "execute_result"
    }
   ],
   "source": [
    "fluxes.mean(), fluxes.std()"
   ]
  },
  {
   "cell_type": "code",
   "execution_count": 560,
   "metadata": {},
   "outputs": [
    {
     "data": {
      "text/plain": [
       "[<matplotlib.lines.Line2D at 0x7f326f533d00>]"
      ]
     },
     "execution_count": 560,
     "metadata": {},
     "output_type": "execute_result"
    },
    {
     "data": {
      "image/png": "[encoded data removed]",
      "text/plain": [
       "<Figure size 432x288 with 1 Axes>"
      ]
     },
     "metadata": {
      "needs_background": "light"
     },
     "output_type": "display_data"
    }
   ],
   "source": [
    "plt.step(xs, ys)\n",
    "plt.plot(xs, g(xs))"
   ]
  },
  {
   "cell_type": "code",
   "execution_count": 329,
   "metadata": {},
   "outputs": [],
   "source": [
    "# plt.figure(figsize=(16, 12))\n",
    "# for x, y in zip(all_xs, all_ys):\n",
    "#     plt.plot(x, y, alpha=0.1)"
   ]
  },
  {
   "cell_type": "code",
   "execution_count": 494,
   "metadata": {},
   "outputs": [
    {
     "data": {
      "text/plain": [
       "[<matplotlib.lines.Line2D at 0x7f326fc27370>]"
      ]
     },
     "execution_count": 494,
     "metadata": {},
     "output_type": "execute_result"
    },
    {
     "data": {
      "image/png": "[encoded data removed]",
      "text/plain": [
       "<Figure size 432x288 with 1 Axes>"
      ]
     },
     "metadata": {
      "needs_background": "light"
     },
     "output_type": "display_data"
    }
   ],
   "source": [
    "plt.step(spec[2].freq, spec[2].intensity)\n",
    "plt.plot(spec[2].freq, fit_g(g_init, spec[2].freq, spec[2].intensity)(spec[2].freq))"
   ]
  },
  {
   "cell_type": "code",
   "execution_count": null,
   "metadata": {},
   "outputs": [],
   "source": []
  }
 ],
 "metadata": {
  "kernelspec": {
   "display_name": "Python 3.8.2 64-bit",
   "language": "python",
   "name": "python38264bit51ac865642c54dc8af66b510f89bf5d6"
  },
  "language_info": {
   "codemirror_mode": {
    "name": "ipython",
    "version": 3
   },
   "file_extension": ".py",
   "mimetype": "text/x-python",
   "name": "python",
   "nbconvert_exporter": "python",
   "pygments_lexer": "ipython3",
   "version": "3.8.2"
  }
 },
 "nbformat": 4,
 "nbformat_minor": 4
}
