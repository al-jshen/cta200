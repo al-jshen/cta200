{
 "cells": [
  {
   "cell_type": "code",
   "execution_count": 178,
   "metadata": {},
   "outputs": [],
   "source": [
    "import csv\n",
    "import numpy as np\n",
    "import matplotlib.pyplot as plt\n",
    "import matplotlib.ticker as ticker\n",
    "%matplotlib inline\n",
    "import astropy\n",
    "import astropy.constants as const\n",
    "import pandas as pd\n",
    "from scipy.integrate import simps\n",
    "import scipy.stats as stats\n",
    "from astropy.modeling import models, fitting\n",
    "from uncertainties import ufloat\n",
    "from astropy.cosmology import FlatLambdaCDM\n",
    "import astropy.units as u\n",
    "import astropy.constants as const"
   ]
  },
  {
   "cell_type": "code",
   "execution_count": 86,
   "metadata": {},
   "outputs": [],
   "source": [
    "s2a = pd.read_csv('./resources/zprofile-2a.tsv', sep='\\t', skiprows=6, header=None)\n",
    "s2b = pd.read_csv('./resources/zprofile-2b.tsv', sep='\\t', skiprows=6, header=None)\n",
    "s2c = pd.read_csv('./resources/zprofile-2c.tsv', sep='\\t', skiprows=6, header=None)\n",
    "\n",
    "colnames = ['freq', 'intensity']\n",
    "s2a.columns, s2a.name = colnames, '2a'\n",
    "s2b.columns, s2b.name = colnames, '2b'\n",
    "s2c.columns, s2c.name = colnames, '2c'\n",
    "\n",
    "spec = [s2a, s2b, s2c]\n",
    "labels = ['2a', '2b', '2c']"
   ]
  },
  {
   "cell_type": "code",
   "execution_count": 5,
   "metadata": {},
   "outputs": [],
   "source": [
    "rms = 1.08e-4"
   ]
  },
  {
   "cell_type": "code",
   "execution_count": 34,
   "metadata": {},
   "outputs": [],
   "source": [
    "\n",
    "fit_g = fitting.LevMarLSQFitter()"
   ]
  },
  {
   "cell_type": "code",
   "execution_count": 146,
   "metadata": {},
   "outputs": [
    {
     "name": "stdout",
     "output_type": "stream",
     "text": [
      "['88.138', '0.170', '0.573', '0.434']\n",
      "['3.562E-05', '2.428E-05']\n",
      "\n",
      "\n",
      "['88.210', '0.063', '0.195', '0.212']\n",
      "['6.245E-05', '1.682E-05']\n",
      "\n",
      "\n",
      "['88.203', '0.052', '0.125', '0.228']\n",
      "['4.902E-05', '1.351E-05']\n",
      "\n",
      "\n"
     ]
    }
   ],
   "source": [
    "n = 500\n",
    "\n",
    "sims = []\n",
    "\n",
    "for s in spec:\n",
    "    g_init = models.Gaussian1D(amplitude=max(s.intensity), mean=88.2, stddev=.3, bounds={'mean': (88, 88.5)})\n",
    "\n",
    "    means = np.zeros(n)\n",
    "    stds = np.zeros(n)\n",
    "    fluxes = np.zeros(n)\n",
    "    for i in np.arange(n):\n",
    "        sim = np.random.normal(loc=s.intensity, scale=rms)\n",
    "        g = fit_g(g_init, s.freq, sim)\n",
    "\n",
    "        sims.append(sim)\n",
    "        means[i] = g.mean.value\n",
    "        stds[i] = g.stddev.value\n",
    "        fluxes[i] = simps(y=g(s.freq), x=s.freq)\n",
    "    \n",
    "    print([f'{i:.3f}' for i in [means.mean(), means.std(), 2 * np.sqrt(2 * np.log(2)) * stds.mean(), 2 * np.sqrt(2 * np.log(2)) * stds.std()]])\n",
    "    print([f'{j:.3E}' for j in [fluxes.mean(), fluxes.std()]])\n",
    "    print('\\n')"
   ]
  },
  {
   "cell_type": "code",
   "execution_count": null,
   "metadata": {},
   "outputs": [],
   "source": [
    "fig = plt.figure(figsize=(6, 12), dpi=100)\n",
    "for idx, gal in enumerate(np.split(np.array(sims), (500, 1000))):\n",
    "    ax = fig.add_subplot(3, 1, idx+1)\n",
    "    ax.set_title(f'Perturbations of the spectrum of Gal {labels[idx]}')\n",
    "    ax.yaxis.set_major_locator(plt.MaxNLocator(7))\n",
    "    ax.yaxis.set_major_formatter(ticker.FuncFormatter(lambda x, pos: f'{x * 1e3:.2f}'))\n",
    "    ax.set_ylabel('Intensity (mJy/beam)')\n",
    "    ax.set_xlabel('Observed frequency (GHz)')\n",
    "    ax.set_ylim(np.min(sims), np.max(sims))\n",
    "    ax.set_xlim(np.min(spec[idx].freq), np.max(spec[idx].freq))\n",
    "    \n",
    "    for sim in gal:\n",
    "        ax.plot(spec[idx].freq, sim, alpha=0.075)\n",
    "        \n",
    "    ax.axhline(0, linestyle=':', c='black', alpha=0.3)\n",
    "        \n",
    "    plt.tight_layout()\n",
    "    \n",
    "plt.savefig('figs/perturbations.png')"
   ]
  },
  {
   "cell_type": "code",
   "execution_count": null,
   "metadata": {},
   "outputs": [],
   "source": []
  },
  {
   "cell_type": "code",
   "execution_count": 179,
   "metadata": {},
   "outputs": [],
   "source": [
    "def z_from_freq(obs_freq, rest_freq):\n",
    "    \"\"\" Given (arrays of) observed and rest frequencies, calculate redshift.\n",
    "    \"\"\"\n",
    "    return (rest_freq / obs_freq) - 1\n",
    "\n",
    "def line_luminosity(fluxes, lum_dists, zs, freq_obs):\n",
    "    \"\"\" See first eqn. on Carilli and Walter 2013 p. 9\n",
    "    \"\"\"\n",
    "    return (const.c**2 / (2 * const.k_B) * fluxes * np.square(lum_dists) / (np.power(1+zs, 3) * np.square(freq_obs))).to(u.K * u.km * u.pc**2 / u.s)"
   ]
  },
  {
   "cell_type": "code",
   "execution_count": 242,
   "metadata": {},
   "outputs": [],
   "source": [
    "cosmo = FlatLambdaCDM(H0=70, Tcmb0=2.72548, Om0=0.3) # default Tcmb0=0 gives very similar results\n",
    "co_j32_freq = 345.8 # GHz\n",
    "co32_10_ratio = 0.27\n",
    "alpha_co = 4.6\n",
    "sfr = ufloat(99, 9)"
   ]
  },
  {
   "cell_type": "code",
   "execution_count": 243,
   "metadata": {},
   "outputs": [],
   "source": [
    "obs_freqs = np.array([ufloat(88.138, .17), ufloat(88.21, .063), ufloat(88.203, .052)])\n",
    "linefluxes = np.array([ufloat(3.562E-05, 2.428E-05), ufloat(6.245E-05, 1.682E-05), ufloat(4.902E-05, 1.351E-05)])\n",
    "redshifts = z_from_freq(obs_freqs, co_j32_freq)\n",
    "lum_dists = np.array(list(ufloat(nom, err) for nom, err in zip(cosmo.luminosity_distance([i.n for i in redshifts]).value, cosmo.luminosity_distance([i.s for i in redshifts]).value)))\n",
    "linelumsco32 = 3.25e7 * linefluxes * np.square(lum_dists) / (np.power(1 + redshifts, 3) * np.square(obs_freqs))\n",
    "linelumsco10 = linelumsco32 / co32_10_ratio\n",
    "mgas = linelumsco10 * alpha_co\n",
    "amplifications = np.array([ufloat(2.86, .04), ufloat(8.1, .4), ufloat(6.1, .1)])\n",
    "delensed_mgas = mgas / amplifications\n",
    "sfe = sfr / delensed_mgas"
   ]
  },
  {
   "cell_type": "code",
   "execution_count": 247,
   "metadata": {},
   "outputs": [
    {
     "data": {
      "text/plain": [
       "(array([ 2.,  0.,  0.,  0.,  0.,  0.,  0.,  0.,  0.,  0.,  0.,  0.,  0.,\n",
       "         0.,  0.,  0.,  0.,  0.,  0.,  2.,  2.,  8.,  6., 10.,  9., 22.,\n",
       "        22., 34., 25., 33., 33., 31., 28., 25., 27., 30., 20., 24., 17.,\n",
       "        16.,  7., 10.,  9.,  6.,  6.,  2.,  7.,  3.,  1.,  3.,  1.,  2.,\n",
       "         1.,  0.,  0.,  2.,  1.,  0.,  0.,  0.,  1.,  1.,  1.,  1.,  0.,\n",
       "         0.,  1.,  1.,  1.,  0.,  0.,  1.,  2.,  0.,  0.,  0.,  0.,  0.,\n",
       "         0.,  0.,  0.,  0.,  0.,  0.,  0.,  1.,  1.,  0.,  0.,  0.,  0.,\n",
       "         0.,  0.,  0.,  0.,  0.,  0.,  0.,  0.,  1.]),\n",
       " array([0.00000000e+00, 1.44874068e-06, 2.89748135e-06, 4.34622203e-06,\n",
       "        5.79496271e-06, 7.24370338e-06, 8.69244406e-06, 1.01411847e-05,\n",
       "        1.15899254e-05, 1.30386661e-05, 1.44874068e-05, 1.59361474e-05,\n",
       "        1.73848881e-05, 1.88336288e-05, 2.02823695e-05, 2.17311102e-05,\n",
       "        2.31798508e-05, 2.46285915e-05, 2.60773322e-05, 2.75260729e-05,\n",
       "        2.89748135e-05, 3.04235542e-05, 3.18722949e-05, 3.33210356e-05,\n",
       "        3.47697762e-05, 3.62185169e-05, 3.76672576e-05, 3.91159983e-05,\n",
       "        4.05647390e-05, 4.20134796e-05, 4.34622203e-05, 4.49109610e-05,\n",
       "        4.63597017e-05, 4.78084423e-05, 4.92571830e-05, 5.07059237e-05,\n",
       "        5.21546644e-05, 5.36034050e-05, 5.50521457e-05, 5.65008864e-05,\n",
       "        5.79496271e-05, 5.93983678e-05, 6.08471084e-05, 6.22958491e-05,\n",
       "        6.37445898e-05, 6.51933305e-05, 6.66420711e-05, 6.80908118e-05,\n",
       "        6.95395525e-05, 7.09882932e-05, 7.24370338e-05, 7.38857745e-05,\n",
       "        7.53345152e-05, 7.67832559e-05, 7.82319966e-05, 7.96807372e-05,\n",
       "        8.11294779e-05, 8.25782186e-05, 8.40269593e-05, 8.54756999e-05,\n",
       "        8.69244406e-05, 8.83731813e-05, 8.98219220e-05, 9.12706626e-05,\n",
       "        9.27194033e-05, 9.41681440e-05, 9.56168847e-05, 9.70656254e-05,\n",
       "        9.85143660e-05, 9.99631067e-05, 1.01411847e-04, 1.02860588e-04,\n",
       "        1.04309329e-04, 1.05758069e-04, 1.07206810e-04, 1.08655551e-04,\n",
       "        1.10104291e-04, 1.11553032e-04, 1.13001773e-04, 1.14450513e-04,\n",
       "        1.15899254e-04, 1.17347995e-04, 1.18796736e-04, 1.20245476e-04,\n",
       "        1.21694217e-04, 1.23142958e-04, 1.24591698e-04, 1.26040439e-04,\n",
       "        1.27489180e-04, 1.28937920e-04, 1.30386661e-04, 1.31835402e-04,\n",
       "        1.33284142e-04, 1.34732883e-04, 1.36181624e-04, 1.37630364e-04,\n",
       "        1.39079105e-04, 1.40527846e-04, 1.41976586e-04, 1.43425327e-04,\n",
       "        1.44874068e-04]),\n",
       " <a list of 100 Patch objects>)"
      ]
     },
     "execution_count": 247,
     "metadata": {},
     "output_type": "execute_result"
    },
    {
     "data": {
      "image/png": "[encoded data removed]",
      "text/plain": [
       "<Figure size 432x288 with 1 Axes>"
      ]
     },
     "metadata": {
      "needs_background": "light"
     },
     "output_type": "display_data"
    }
   ],
   "source": [
    "plt.hist(fluxes, bins=100)"
   ]
  },
  {
   "cell_type": "code",
   "execution_count": null,
   "metadata": {},
   "outputs": [],
   "source": []
  }
 ],
 "metadata": {
  "kernelspec": {
   "display_name": "Python 3.8.2 64-bit",
   "language": "python",
   "name": "python38264bit51ac865642c54dc8af66b510f89bf5d6"
  },
  "language_info": {
   "codemirror_mode": {
    "name": "ipython",
    "version": 3
   },
   "file_extension": ".py",
   "mimetype": "text/x-python",
   "name": "python",
   "nbconvert_exporter": "python",
   "pygments_lexer": "ipython3",
   "version": "3.8.2"
  }
 },
 "nbformat": 4,
 "nbformat_minor": 4
}
